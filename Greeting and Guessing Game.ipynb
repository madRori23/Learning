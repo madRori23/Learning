{
 "cells": [
  {
   "cell_type": "code",
   "execution_count": 12,
   "id": "7ef16a55",
   "metadata": {},
   "outputs": [
    {
     "name": "stdout",
     "output_type": "stream",
     "text": [
      "Enter your name and surname: Rori\n",
      "Hello Rori\n"
     ]
    }
   ],
   "source": [
    "# Input user name\n",
    "name = str(input(\"Enter your name and surname: \"))\n",
    "\n",
    "# Greet the user\n",
    "print (\"Hello\",name)\n"
   ]
  },
  {
   "cell_type": "code",
   "execution_count": 13,
   "id": "5a0a0ebd",
   "metadata": {},
   "outputs": [
    {
     "name": "stdout",
     "output_type": "stream",
     "text": [
      "Enter the lower bound of the range: 1\n",
      "Enter the upper bound of the range: 10\n",
      "Guess a number between 1 and 10: 4\n",
      "Too low! Try again.\n",
      "Guess a number between 1 and 10: 6\n",
      "Congratulations! You guessed the number in 2 attempts.\n"
     ]
    }
   ],
   "source": [
    "import random\n",
    "\n",
    "def play_game():\n",
    "  \"\"\"\n",
    "  This function plays a guess-the-number game with the user.\n",
    "  \"\"\"\n",
    "  # Get lower and upper bounds from the user\n",
    "  lower_bound = int(input(\"Enter the lower bound of the range: \"))\n",
    "  upper_bound = int(input(\"Enter the upper bound of the range: \"))\n",
    "\n",
    "  # Generate a random number within the range\n",
    "  secret_number = random.randint(lower_bound, upper_bound)\n",
    "\n",
    "  # Initialize attempts counter\n",
    "  attempts = 0\n",
    "\n",
    "  # Start the guessing loop\n",
    "  while True:\n",
    "    attempts += 1\n",
    "\n",
    "    # Get the user's guess\n",
    "    guess = int(input(f\"Guess a number between {lower_bound} and {upper_bound}: \"))\n",
    "\n",
    "    # Check the guess and provide a hint\n",
    "    if guess == secret_number:\n",
    "      print(\"Congratulations! You guessed the number in\", attempts, \"attempts.\")\n",
    "      break\n",
    "    elif guess < secret_number:\n",
    "      print(\"Too low! Try again.\")\n",
    "    else:\n",
    "      print(\"Too high! Try again.\")\n",
    "\n",
    "# Play the game\n",
    "play_game()\n"
   ]
  }
 ],
 "metadata": {
  "kernelspec": {
   "display_name": "Python 3 (ipykernel)",
   "language": "python",
   "name": "python3"
  },
  "language_info": {
   "codemirror_mode": {
    "name": "ipython",
    "version": 3
   },
   "file_extension": ".py",
   "mimetype": "text/x-python",
   "name": "python",
   "nbconvert_exporter": "python",
   "pygments_lexer": "ipython3",
   "version": "3.11.5"
  }
 },
 "nbformat": 4,
 "nbformat_minor": 5
}
