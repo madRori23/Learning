{
 "cells": [
  {
   "cell_type": "code",
   "execution_count": 2,
   "id": "e260e4d0",
   "metadata": {},
   "outputs": [
    {
     "name": "stdout",
     "output_type": "stream",
     "text": [
      "Enter the principle amount: 960000\n",
      "Enter interest rate: 0.06\n",
      "Enter term: 30\n",
      "5755.685041466467\n"
     ]
    }
   ],
   "source": [
    "principle = float(input(\"Enter the principle amount: \"))\n",
    "interestRate = float(input(\"Enter interest rate: \"))\n",
    "year = float(input(\"Enter term: \"))\n",
    "\n",
    "\n",
    "monthlyPayments = (principle * (interestRate/12)) / (1 - (1 + (interestRate/12)) ** (-12 * year))\n",
    "\n",
    "print(\"Your monthly repayments are\", monthlyPayments)"
   ]
  }
 ],
 "metadata": {
  "kernelspec": {
   "display_name": "Python 3 (ipykernel)",
   "language": "python",
   "name": "python3"
  },
  "language_info": {
   "codemirror_mode": {
    "name": "ipython",
    "version": 3
   },
   "file_extension": ".py",
   "mimetype": "text/x-python",
   "name": "python",
   "nbconvert_exporter": "python",
   "pygments_lexer": "ipython3",
   "version": "3.11.5"
  }
 },
 "nbformat": 4,
 "nbformat_minor": 5
}
